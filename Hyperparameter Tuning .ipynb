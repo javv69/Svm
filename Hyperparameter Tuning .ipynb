{
 "cells": [
  {
   "cell_type": "code",
   "execution_count": 1,
   "id": "b0f882ce-6556-428a-9559-58eea3600542",
   "metadata": {},
   "outputs": [
    {
     "ename": "SyntaxError",
     "evalue": "invalid syntax (5132240.py, line 7)",
     "output_type": "error",
     "traceback": [
      "\u001b[1;36m  File \u001b[1;32m\"C:\\Users\\erpan\\AppData\\Local\\Temp\\ipykernel_4536\\5132240.py\"\u001b[1;36m, line \u001b[1;32m7\u001b[0m\n\u001b[1;33m    grid_search GridSearchCV ( estimator SVC ( random_state = 0 ),\u001b[0m\n\u001b[1;37m                ^\u001b[0m\n\u001b[1;31mSyntaxError\u001b[0m\u001b[1;31m:\u001b[0m invalid syntax\n"
     ]
    }
   ],
   "source": [
    "from sklearn.model_selection import GridSearchCV \n",
    "parameters = {\n",
    "    'kernel' : [ ' rbf ' , ' poly ' , ' sigmoid ' ] ,\n",
    "    ' C ' : [ 0.5 , 1 , 10 , 100 ] , \n",
    "    'gamma ' : [ ' scale ' , 1 , 0.1 , 0.01 , 0.001 ]\n",
    "}\n",
    "grid_search GridSearchCV ( estimator SVC ( random_state = 0 ),\n",
    "                          param_grid = parameters ,\n",
    "                          n_jobs = 6 ,\n",
    "                          verbose = 1 ,\n",
    "                          scoring = ' accuracy ' )\n",
    "grid_search.fit ( X_train , y_train )"
   ]
  },
  {
   "cell_type": "code",
   "execution_count": 2,
   "id": "75a191a2-968f-4da3-96c7-7c73fde81caa",
   "metadata": {},
   "outputs": [
    {
     "ename": "SyntaxError",
     "evalue": "expected ':' (2921022541.py, line 4)",
     "output_type": "error",
     "traceback": [
      "\u001b[1;36m  File \u001b[1;32m\"C:\\Users\\erpan\\AppData\\Local\\Temp\\ipykernel_4536\\2921022541.py\"\u001b[1;36m, line \u001b[1;32m4\u001b[0m\n\u001b[1;33m    for param in parameters\u001b[0m\n\u001b[1;37m                            ^\u001b[0m\n\u001b[1;31mSyntaxError\u001b[0m\u001b[1;31m:\u001b[0m expected ':'\n"
     ]
    }
   ],
   "source": [
    "print(f'Best Scoere; {grid_searc.best_score_}')\n",
    "best_params = grid_search.best_estimator_.get_params ( ) \n",
    "print ( f'Best Parameters : ' ) \n",
    "for param in parameters: \n",
    "    print ( f ' \\ t { param ) : { best_params [ param ] } ' )"
   ]
  },
  {
   "cell_type": "code",
   "execution_count": null,
   "id": "203d3554-7e07-4b00-abfc-180678d687ba",
   "metadata": {},
   "outputs": [],
   "source": []
  }
 ],
 "metadata": {
  "kernelspec": {
   "display_name": "Python 3 (ipykernel)",
   "language": "python",
   "name": "python3"
  },
  "language_info": {
   "codemirror_mode": {
    "name": "ipython",
    "version": 3
   },
   "file_extension": ".py",
   "mimetype": "text/x-python",
   "name": "python",
   "nbconvert_exporter": "python",
   "pygments_lexer": "ipython3",
   "version": "3.10.4"
  }
 },
 "nbformat": 4,
 "nbformat_minor": 5
}
